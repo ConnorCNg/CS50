{
 "cells": [
  {
   "cell_type": "code",
   "execution_count": 3,
   "metadata": {},
   "outputs": [],
   "source": [
    "import requests\n",
    "import json\n",
    "import sys\n",
    "import pandas as pd\n",
    "from tabulate import tabulate\n",
    "from flask import Flask, render_template\n",
    "from bs4 import BeautifulSoup"
   ]
  },
  {
   "cell_type": "code",
   "execution_count": 107,
   "metadata": {},
   "outputs": [],
   "source": [
    "#apis documentation: https://docs.scrapeak.com/zillow-scraper/overview\n",
    "\n",
    "api_key = \"0c141748-c9da-44f6-b91c-bd08e529f3a5\"\n",
    "api_url = \"https://app.scrapeak.com/v1/scrapers/zillow/listing\"\n",
    "listings_url = \"https://www.zillow.com/homes/for_rent/?searchQueryState=%7B%22pagination%22%3A%7B%7D%2C%22isMapVisible%22%3Atrue%2C%22mapBounds%22%3A%7B%22west%22%3A-122.17040010111008%2C%22east%22%3A-122.0699781955925%2C%22south%22%3A37.39634394555346%2C%22north%22%3A37.44542356875894%7D%2C%22mapZoom%22%3A14%2C%22usersSearchTerm%22%3A%223444%20Ashton%20Ct%20Palo%20Alto%2C%20CA%2094306%22%2C%22customRegionId%22%3A%221e42866394X1-CR8uzkls0vwlfr_13lqr1%22%2C%22filterState%22%3A%7B%22fr%22%3A%7B%22value%22%3Atrue%7D%2C%22fsba%22%3A%7B%22value%22%3Afalse%7D%2C%22fsbo%22%3A%7B%22value%22%3Afalse%7D%2C%22nc%22%3A%7B%22value%22%3Afalse%7D%2C%22cmsn%22%3A%7B%22value%22%3Afalse%7D%2C%22auc%22%3A%7B%22value%22%3Afalse%7D%2C%22fore%22%3A%7B%22value%22%3Afalse%7D%2C%22ah%22%3A%7B%22value%22%3Atrue%7D%2C%22sche%22%3A%7B%22value%22%3Afalse%7D%2C%22schm%22%3A%7B%22value%22%3Afalse%7D%2C%22schh%22%3A%7B%22value%22%3Afalse%7D%2C%22schp%22%3A%7B%22value%22%3Afalse%7D%2C%22schr%22%3A%7B%22value%22%3Afalse%7D%2C%22schc%22%3A%7B%22value%22%3Afalse%7D%2C%22schu%22%3A%7B%22value%22%3Afalse%7D%2C%22apco%22%3A%7B%22value%22%3Afalse%7D%2C%22apa%22%3A%7B%22value%22%3Afalse%7D%2C%22con%22%3A%7B%22value%22%3Afalse%7D%2C%22tow%22%3A%7B%22value%22%3Afalse%7D%7D%2C%22isListVisible%22%3Atrue%7D\"\n",
    "params = {\"api_key\": api_key, \"url\": listings_url}\n",
    "\n",
    "response = requests.get(api_url, params=params)\n",
    "response_json = response.json()\n",
    "\n",
    "if not response_json: # If creating a web user interface have this return an error code using flask\n",
    "    print(\"Failed to get listings\")\n",
    "    sys.exit()\n",
    "\n",
    "# get the zpids (unique property ids) for each property returned in the listings search\n",
    "data = response_json[\"data\"]\n",
    "zpids={}\n",
    "for i in data[\"cat1\"][\"searchResults\"][\"listResults\"]:\n",
    "    zpids[i[\"zpid\"]] = i[\"detailUrl\"]\n",
    "\n",
    "# find the price history for each property returned\n",
    "api_url = \"https://app.scrapeak.com/v1/scrapers/zillow/property\"\n",
    "pricehistory=[]\n",
    "for zpid in zpids:\n",
    "    params = {\"api_key\": api_key, \"zpid\": zpid}\n",
    "    pricehistory.append({\n",
    "        \"zpid\": zpid,\n",
    "        \"detailsurl\": zpids[str(zpid)],\n",
    "        \"pricehistory\": requests.get(api_url, params=params).json()[\"data\"][\"priceHistory\"]\n",
    "    })\n"
   ]
  },
  {
   "cell_type": "code",
   "execution_count": 163,
   "metadata": {},
   "outputs": [
    {
     "name": "stdout",
     "output_type": "stream",
     "text": [
      "dict_keys(['zpid', 'id', 'rawHomeStatusCd', 'marketingStatusSimplifiedCd', 'providerListingId', 'imgSrc', 'hasImage', 'detailUrl', 'statusType', 'statusText', 'countryCurrency', 'price', 'unformattedPrice', 'address', 'addressStreet', 'addressCity', 'addressState', 'addressZipcode', 'isUndisclosedAddress', 'beds', 'baths', 'area', 'latLong', 'isZillowOwned', 'variableData', 'hdpData', 'isSaved', 'isUserClaimingOwner', 'isUserConfirmedClaim', 'pgapt', 'sgapt', 'zestimate', 'shouldShowZestimateAsPrice', 'has3DModel', 'hasVideo', 'isHomeRec', 'hasAdditionalAttributions', 'isFeaturedListing', 'isShowcaseListing', 'availabilityDate', 'list', 'relaxed', 'carouselPhotos', 'rooms'])\n",
      "11\n"
     ]
    }
   ],
   "source": [
    "print(data[\"cat1\"][\"searchResults\"][\"listResults\"][0].keys())\n",
    "print(len(zpids))\n",
    "#for i in zpids:\n",
    "#    print(i)\n",
    "#for i in pricehistory:\n",
    "#    print(i[\"zpid\"])"
   ]
  },
  {
   "cell_type": "code",
   "execution_count": 162,
   "metadata": {},
   "outputs": [
    {
     "name": "stdout",
     "output_type": "stream",
     "text": [
      "{'date': '2024-05-01', 'time': 1714521600000, 'price': 6595, 'pricePerSquareFoot': 5, 'priceChangeRate': 0.10840336134453782, 'event': 'Listed for rent', 'source': 'Zillow Rentals', 'buyerAgent': None, 'sellerAgent': None, 'showCountyLink': False, 'postingIsRental': True, 'attributeSource': {'infoString1': None, 'infoString2': 'Zillow Rentals', 'infoString3': None}}\n"
     ]
    }
   ],
   "source": [
    "#print(pricehistory[0][\"pricehistory\"][0].keys())\n",
    "# dict_keys(['date', 'time', 'price', 'pricePerSquareFoot', 'priceChangeRate', 'event', 'source', 'buyerAgent', 'sellerAgent', 'showCountyLink', 'postingIsRental', 'attributeSource'])\n",
    "print(pricehistory[0][\"pricehistory\"][0])\n",
    "\n",
    "#data[\"cat1\"][\"searchResults\"][\"listResults\"][0]\n",
    "# I want detailUrl, price, address, beds, baths, area"
   ]
  },
  {
   "cell_type": "code",
   "execution_count": 1,
   "metadata": {},
   "outputs": [
    {
     "ename": "NameError",
     "evalue": "name 'data' is not defined",
     "output_type": "error",
     "traceback": [
      "\u001b[0;31m---------------------------------------------------------------------------\u001b[0m",
      "\u001b[0;31mNameError\u001b[0m                                 Traceback (most recent call last)",
      "Cell \u001b[0;32mIn[1], line 3\u001b[0m\n\u001b[1;32m      1\u001b[0m \u001b[38;5;66;03m# Get a summary of properties returned\u001b[39;00m\n\u001b[1;32m      2\u001b[0m summary_table \u001b[38;5;241m=\u001b[39m []\n\u001b[0;32m----> 3\u001b[0m \u001b[38;5;28;01mfor\u001b[39;00m i \u001b[38;5;129;01min\u001b[39;00m \u001b[43mdata\u001b[49m[\u001b[38;5;124m\"\u001b[39m\u001b[38;5;124mcat1\u001b[39m\u001b[38;5;124m\"\u001b[39m][\u001b[38;5;124m\"\u001b[39m\u001b[38;5;124msearchResults\u001b[39m\u001b[38;5;124m\"\u001b[39m][\u001b[38;5;124m\"\u001b[39m\u001b[38;5;124mlistResults\u001b[39m\u001b[38;5;124m\"\u001b[39m]:\n\u001b[1;32m      4\u001b[0m     \u001b[38;5;28;01mtry\u001b[39;00m:\n\u001b[1;32m      5\u001b[0m         area \u001b[38;5;241m=\u001b[39m i[\u001b[38;5;124m\"\u001b[39m\u001b[38;5;124marea\u001b[39m\u001b[38;5;124m\"\u001b[39m]\n",
      "\u001b[0;31mNameError\u001b[0m: name 'data' is not defined"
     ]
    }
   ],
   "source": [
    "# Get a summary of properties returned\n",
    "summary_table = []\n",
    "for i in data[\"cat1\"][\"searchResults\"][\"listResults\"]:\n",
    "    try:\n",
    "        area = i[\"area\"]\n",
    "    except KeyError:\n",
    "        area = \"null\"\n",
    "    row = [\n",
    "        i[\"price\"],\n",
    "        area,\n",
    "        i[\"beds\"],\n",
    "        i[\"baths\"],\n",
    "        i[\"address\"],\n",
    "        i[\"detailUrl\"]\n",
    "    ]\n",
    "    summary_table.append(row)\n",
    "summary_table()\n",
    "print(tabulate(summary_table, headers=[\"Price\", \"Area\", \"# Beds\", \"# Baths\", \"Address\", \"Zillow Link\"]))"
   ]
  },
  {
   "cell_type": "code",
   "execution_count": 119,
   "metadata": {},
   "outputs": [
    {
     "name": "stdout",
     "output_type": "stream",
     "text": [
      "https://www.zillow.com/homedetails/Palo-Alto-CA-94306/19502746_zpid/\n",
      "Date        Event              Price    Price Change\n",
      "----------  ---------------  -------  --------------\n",
      "2024-05-01  Listed for rent     6595        0.108403\n",
      "2023-05-13  Listing removed                 0\n",
      "2023-04-29  Listed for rent     5950        0\n",
      "https://www.zillow.com/homedetails/747-Holly-Oak-Dr-Palo-Alto-CA-94303/19500649_zpid/\n",
      "Date        Event              Price    Price Change\n",
      "----------  ---------------  -------  --------------\n",
      "2024-05-04  Listed for rent     8495               0\n",
      "https://www.zillow.com/homedetails/3737-Middlefield-Rd-Palo-Alto-CA-94303/19500367_zpid/\n",
      "Date        Event              Price    Price Change\n",
      "----------  ---------------  -------  --------------\n",
      "2024-04-27  Listed for rent    13000               0\n",
      "2003-07-14  Sold              770000               0\n",
      "https://www.zillow.com/homedetails/3780-Wright-Pl-Palo-Alto-CA-94306/19503395_zpid/\n",
      "Date        Event              Price    Price Change\n",
      "----------  ---------------  -------  --------------\n",
      "2024-05-06  Listed for rent     5500        0\n",
      "2024-03-28  Sold             2525000        0.150342\n",
      "2024-03-01  Pending sale     2195000        0\n",
      "2024-02-19  Listed for sale  2195000        0.995455\n",
      "2005-03-10  Sold             1100000        0\n",
      "https://www.zillow.com/homedetails/3489-South-Ct-Palo-Alto-CA-94306/19502449_zpid/\n",
      "Date        Event              Price    Price Change\n",
      "----------  ---------------  -------  --------------\n",
      "2024-05-03  Listed for rent     2400       0.0909091\n",
      "2023-07-28  Listing removed                0\n",
      "2023-07-22  Price change        2200      -0.0833333\n",
      "2023-07-12  Price change        2400       0.0434783\n",
      "2023-06-23  Price change        2300      -0.0416667\n",
      "2023-05-18  Price change        2400      -0.04\n",
      "2023-05-03  Price change        2500       0.0416667\n",
      "2023-04-30  Price change        2400       0.0434783\n",
      "2023-03-29  Listed for rent     2300       0.0454545\n",
      "2023-01-09  Listing removed                0\n",
      "2023-01-02  Price change        2200       0.1\n",
      "2022-12-19  Price change        2000      -0.0909091\n",
      "2022-12-06  Price change        2200       0.157895\n",
      "2022-12-01  Listed for rent     1900       0\n",
      "2022-09-04  Listing removed                0\n",
      "2022-08-24  Price change        1900      -0.173913\n",
      "2022-08-06  Price change        2300      -0.08\n",
      "2022-08-01  Price change        2500      -0.0384615\n",
      "2022-07-23  Listed for rent     2600       0.485714\n",
      "2022-07-05  Listing removed                0\n",
      "2022-07-02  Listed for rent     1750       0\n",
      "1995-08-08  Sold              625000       0\n",
      "https://www.zillow.com/homedetails/Palo-Alto-CA-94303/19499164_zpid/\n",
      "Date        Event              Price    Price Change\n",
      "----------  ---------------  -------  --------------\n",
      "2024-04-23  Listed for rent     8450        0.215827\n",
      "2022-02-04  Listing removed                 0\n",
      "2022-01-06  Listed for rent     6950        0\n",
      "2021-12-06  Listing removed                 0\n",
      "2021-11-07  Listed for rent     6950        0\n",
      "2021-08-10  Listing removed                 0\n",
      "2021-04-23  Listed for rent     6950        0\n",
      "2020-11-04  Listing removed     6950        0\n",
      "2020-10-08  Listed for rent     6950        0\n",
      "https://www.zillow.com/homedetails/3697-S-Court-St-Palo-Alto-CA-94306/2053224160_zpid/\n",
      "Date        Event              Price    Price Change\n",
      "----------  ---------------  -------  --------------\n",
      "2024-04-30  Listed for rent     6600        0\n",
      "2024-02-08  Sold             2980000        0.104522\n",
      "2024-01-23  Pending sale     2698000        0\n",
      "2024-01-15  Listed for sale  2698000        0\n",
      "https://www.zillow.com/homedetails/784-Talisman-Ct-Palo-Alto-CA-94303/19500566_zpid/\n",
      "Date        Event              Price    Price Change\n",
      "----------  ---------------  -------  --------------\n",
      "2024-04-08  Listed for rent    11500        0.173469\n",
      "2023-05-09  Listing removed                 0\n",
      "2023-05-03  Listed for rent     9800        0\n",
      "2021-05-12  Listing removed                 0\n",
      "2021-04-24  Listed for rent     9800        0\n",
      "2006-03-21  Sold             1100000        0\n",
      "https://www.zillow.com/homedetails/Palo-Alto-CA-94303/19500537_zpid/\n",
      "Date        Event              Price    Price Change\n",
      "----------  ---------------  -------  --------------\n",
      "2024-03-28  Listed for rent     6985               0\n",
      "https://www.zillow.com/homedetails/3403-Cork-Oak-Way-Palo-Alto-CA-94303/2066776037_zpid/\n",
      "Date        Event              Price    Price Change\n",
      "----------  ---------------  -------  --------------\n",
      "2024-05-02  Listed for rent     1850      0.00271003\n",
      "2023-07-28  Listing removed               0\n",
      "2023-07-13  Listed for rent     1845      0.0982143\n",
      "2022-06-15  Listing removed               0\n",
      "2022-06-15  Price change        1680     -0.0561798\n",
      "2022-06-08  Listed for rent     1780      0.186667\n",
      "2022-01-21  Listing removed               0\n",
      "2022-01-17  Listed for rent     1500      0\n",
      "https://www.zillow.com/homedetails/3361-Emerson-St-Palo-Alto-CA-94306/19503277_zpid/\n",
      "Date        Event              Price    Price Change\n",
      "----------  ---------------  -------  --------------\n",
      "2024-05-06  Price change        2900      -0.0333333\n",
      "2024-03-31  Listed for rent     3000       0.304348\n",
      "2020-10-14  Listing removed     2300       0\n",
      "2020-08-30  Price change        2300      -0.08\n",
      "2020-08-14  Price change        2500      -0.375\n",
      "2020-07-30  Listed for rent     4000      -0.111111\n",
      "2018-06-04  Listing removed     4500       0\n",
      "2018-05-03  Listed for rent     4500       0\n",
      "2009-08-14  Listing removed   899000       0\n",
      "2009-07-11  Listed for sale   899000       0\n"
     ]
    }
   ],
   "source": [
    "for property in pricehistory:\n",
    "    print(property[\"detailsurl\"])\n",
    "    table = []\n",
    "    for history in property[\"pricehistory\"]:\n",
    "        row = [\n",
    "            history[\"date\"],\n",
    "            history[\"event\"],\n",
    "            history[\"price\"],\n",
    "            history[\"priceChangeRate\"]\n",
    "        ]\n",
    "        table.append(row)\n",
    "    print(tabulate(table, headers=[\"Date\", \"Event\", \"Price\", \"Price Change\"]))\n"
   ]
  },
  {
   "cell_type": "code",
   "execution_count": 131,
   "metadata": {},
   "outputs": [
    {
     "data": {
      "text/plain": [
       "{'zpid': '19502746',\n",
       " 'id': '19502746',\n",
       " 'rawHomeStatusCd': 'ForRent',\n",
       " 'marketingStatusSimplifiedCd': 'For Rent',\n",
       " 'providerListingId': '3azf0tg47bqd3',\n",
       " 'imgSrc': 'https://photos.zillowstatic.com/fp/38d02fd0bebdaac3ccdc353a8a4e5d62-p_e.jpg',\n",
       " 'hasImage': True,\n",
       " 'detailUrl': 'https://www.zillow.com/homedetails/Palo-Alto-CA-94306/19502746_zpid/',\n",
       " 'statusType': 'FOR_RENT',\n",
       " 'statusText': 'House for rent',\n",
       " 'countryCurrency': '$',\n",
       " 'price': '$6,595/mo',\n",
       " 'unformattedPrice': 6595,\n",
       " 'address': '(undisclosed Address), Palo Alto, CA 94306',\n",
       " 'addressStreet': '(undisclosed Address)',\n",
       " 'addressCity': 'Palo Alto',\n",
       " 'addressState': 'CA',\n",
       " 'addressZipcode': '94306',\n",
       " 'isUndisclosedAddress': True,\n",
       " 'beds': 3,\n",
       " 'baths': 2.0,\n",
       " 'area': 1400,\n",
       " 'latLong': {},\n",
       " 'isZillowOwned': False,\n",
       " 'variableData': {'type': 'TIME_ON_INFO',\n",
       "  'text': '5 days ago',\n",
       "  'data': {'isRead': None, 'isFresh': False}},\n",
       " 'hdpData': {'homeInfo': {'zpid': 19502746,\n",
       "   'streetAddress': '(undisclosed Address)',\n",
       "   'zipcode': '94306',\n",
       "   'city': 'Palo Alto',\n",
       "   'state': 'CA',\n",
       "   'price': 6595.0,\n",
       "   'bathrooms': 2.0,\n",
       "   'bedrooms': 3.0,\n",
       "   'livingArea': 1400.0,\n",
       "   'homeType': 'SINGLE_FAMILY',\n",
       "   'homeStatus': 'FOR_RENT',\n",
       "   'daysOnZillow': 5,\n",
       "   'isFeatured': True,\n",
       "   'shouldHighlight': False,\n",
       "   'isRentalWithBasePrice': False,\n",
       "   'zestimate': 3254500,\n",
       "   'rentZestimate': 5995,\n",
       "   'listing_sub_type': {},\n",
       "   'isUnmappable': False,\n",
       "   'isPreforeclosureAuction': False,\n",
       "   'homeStatusForHDP': 'FOR_RENT',\n",
       "   'priceForHDP': 6595.0,\n",
       "   'timeOnZillow': 510724000,\n",
       "   'isNonOwnerOccupied': True,\n",
       "   'isPremierBuilder': False,\n",
       "   'isZillowOwned': False,\n",
       "   'currency': 'USD',\n",
       "   'country': 'USA',\n",
       "   'isShowcaseListing': False}},\n",
       " 'isSaved': False,\n",
       " 'isUserClaimingOwner': False,\n",
       " 'isUserConfirmedClaim': False,\n",
       " 'pgapt': 'ForRent',\n",
       " 'sgapt': 'For Rent',\n",
       " 'zestimate': 3254500,\n",
       " 'shouldShowZestimateAsPrice': False,\n",
       " 'has3DModel': False,\n",
       " 'hasVideo': False,\n",
       " 'isHomeRec': False,\n",
       " 'hasAdditionalAttributions': False,\n",
       " 'isFeaturedListing': True,\n",
       " 'isShowcaseListing': False,\n",
       " 'availabilityDate': '2024-07-01 00:00:00',\n",
       " 'list': True,\n",
       " 'relaxed': False,\n",
       " 'carouselPhotos': [{'url': 'https://photos.zillowstatic.com/fp/38d02fd0bebdaac3ccdc353a8a4e5d62-p_e.jpg'},\n",
       "  {'url': 'https://photos.zillowstatic.com/fp/a7dc4b51c7d4c21472058f2d712f80f1-p_e.jpg'},\n",
       "  {'url': 'https://photos.zillowstatic.com/fp/d9c936bf5c17843c806c4b98e17cb8e4-p_e.jpg'},\n",
       "  {'url': 'https://photos.zillowstatic.com/fp/c230aec664493bb3198773271ac19f8b-p_e.jpg'},\n",
       "  {'url': 'https://photos.zillowstatic.com/fp/f7559886a673f2fc699fb803a6f3a90c-p_e.jpg'},\n",
       "  {'url': 'https://photos.zillowstatic.com/fp/30e21d6550fa6a756830b3cbb8c6a564-p_e.jpg'},\n",
       "  {'url': 'https://photos.zillowstatic.com/fp/6fc348a611d88fe02e1880e7b454a9d3-p_e.jpg'},\n",
       "  {'url': 'https://photos.zillowstatic.com/fp/4e5f1eeec24d3d222583710667e8c846-p_e.jpg'},\n",
       "  {'url': 'https://photos.zillowstatic.com/fp/300766ce5e09958a7eaf3477d1c11b84-p_e.jpg'},\n",
       "  {'url': 'https://photos.zillowstatic.com/fp/73029b3b69947c85424b1bc410d1436b-p_e.jpg'},\n",
       "  {'url': 'https://photos.zillowstatic.com/fp/85064479ea28b1f5ae5acd7d757bbde9-p_e.jpg'},\n",
       "  {'url': 'https://photos.zillowstatic.com/fp/47d979f04f59facaccf0d877b6e025b8-p_e.jpg'},\n",
       "  {'url': 'https://photos.zillowstatic.com/fp/2001573e2c061222b898b68e69f76eec-p_e.jpg'},\n",
       "  {'url': 'https://photos.zillowstatic.com/fp/3bdbb783cd9bb3610447427c6fcbe855-p_e.jpg'},\n",
       "  {'url': 'https://photos.zillowstatic.com/fp/57da7ee296751f53abd76588f7cf1885-p_e.jpg'}],\n",
       " 'rooms': []}"
      ]
     },
     "execution_count": 131,
     "metadata": {},
     "output_type": "execute_result"
    }
   ],
   "source": []
  },
  {
   "cell_type": "code",
   "execution_count": 161,
   "metadata": {},
   "outputs": [
    {
     "name": "stdout",
     "output_type": "stream",
     "text": [
      "dict_keys(['zpid', 'id', 'rawHomeStatusCd', 'marketingStatusSimplifiedCd', 'providerListingId', 'imgSrc', 'hasImage', 'detailUrl', 'statusType', 'statusText', 'countryCurrency', 'price', 'unformattedPrice', 'address', 'addressStreet', 'addressCity', 'addressState', 'addressZipcode', 'isUndisclosedAddress', 'beds', 'baths', 'area', 'latLong', 'isZillowOwned', 'variableData', 'hdpData', 'isSaved', 'isUserClaimingOwner', 'isUserConfirmedClaim', 'pgapt', 'sgapt', 'zestimate', 'shouldShowZestimateAsPrice', 'has3DModel', 'hasVideo', 'isHomeRec', 'hasAdditionalAttributions', 'isFeaturedListing', 'isShowcaseListing', 'availabilityDate', 'list', 'relaxed', 'carouselPhotos', 'rooms'])\n",
      "True\n",
      "2024-07-01 00:00:00\n",
      "True\n",
      "2024-05-18 00:00:00\n",
      "True\n",
      "2024-06-15 00:00:00\n",
      "True\n"
     ]
    },
    {
     "ename": "KeyError",
     "evalue": "'availabilityDate'",
     "output_type": "error",
     "traceback": [
      "\u001b[0;31m---------------------------------------------------------------------------\u001b[0m",
      "\u001b[0;31mKeyError\u001b[0m                                  Traceback (most recent call last)",
      "Cell \u001b[0;32mIn[161], line 6\u001b[0m\n\u001b[1;32m      4\u001b[0m \u001b[38;5;28;01mfor\u001b[39;00m i \u001b[38;5;129;01min\u001b[39;00m data[\u001b[38;5;124m\"\u001b[39m\u001b[38;5;124mcat1\u001b[39m\u001b[38;5;124m\"\u001b[39m][\u001b[38;5;124m\"\u001b[39m\u001b[38;5;124msearchResults\u001b[39m\u001b[38;5;124m\"\u001b[39m][\u001b[38;5;124m\"\u001b[39m\u001b[38;5;124mlistResults\u001b[39m\u001b[38;5;124m\"\u001b[39m]:\n\u001b[1;32m      5\u001b[0m     \u001b[38;5;28mprint\u001b[39m(i[\u001b[38;5;124m\"\u001b[39m\u001b[38;5;124mlist\u001b[39m\u001b[38;5;124m\"\u001b[39m])\n\u001b[0;32m----> 6\u001b[0m     \u001b[38;5;28mprint\u001b[39m(\u001b[43mi\u001b[49m\u001b[43m[\u001b[49m\u001b[38;5;124;43m\"\u001b[39;49m\u001b[38;5;124;43mavailabilityDate\u001b[39;49m\u001b[38;5;124;43m\"\u001b[39;49m\u001b[43m]\u001b[49m)\n",
      "\u001b[0;31mKeyError\u001b[0m: 'availabilityDate'"
     ]
    }
   ],
   "source": [
    "#print(data[\"cat1\"][\"searchResults\"][\"listResults\"][4])\n",
    "print(data[\"cat1\"][\"searchResults\"][\"listResults\"][0].keys())\n",
    "#print(data[\"cat1\"][\"searchResults\"][\"listResults\"][0][\"area\"])\n",
    "for i in data[\"cat1\"][\"searchResults\"][\"listResults\"]:\n",
    "    print(i[\"list\"])\n",
    "    print(i[\"availabilityDate\"])\n"
   ]
  },
  {
   "cell_type": "code",
   "execution_count": 7,
   "metadata": {},
   "outputs": [
    {
     "name": "stdout",
     "output_type": "stream",
     "text": [
      "<Response [403]>\n"
     ]
    }
   ],
   "source": [
    "listings_url = \"https://www.zillow.com/homes/for_rent/?searchQueryState=%7B%22pagination%22%3A%7B%7D%2C%22isMapVisible%22%3Atrue%2C%22mapBounds%22%3A%7B%22west%22%3A-122.17040010111008%2C%22east%22%3A-122.0699781955925%2C%22south%22%3A37.39634394555346%2C%22north%22%3A37.44542356875894%7D%2C%22mapZoom%22%3A14%2C%22usersSearchTerm%22%3A%223444%20Ashton%20Ct%20Palo%20Alto%2C%20CA%2094306%22%2C%22customRegionId%22%3A%221e42866394X1-CR8uzkls0vwlfr_13lqr1%22%2C%22filterState%22%3A%7B%22fr%22%3A%7B%22value%22%3Atrue%7D%2C%22fsba%22%3A%7B%22value%22%3Afalse%7D%2C%22fsbo%22%3A%7B%22value%22%3Afalse%7D%2C%22nc%22%3A%7B%22value%22%3Afalse%7D%2C%22cmsn%22%3A%7B%22value%22%3Afalse%7D%2C%22auc%22%3A%7B%22value%22%3Afalse%7D%2C%22fore%22%3A%7B%22value%22%3Afalse%7D%2C%22ah%22%3A%7B%22value%22%3Atrue%7D%2C%22sche%22%3A%7B%22value%22%3Afalse%7D%2C%22schm%22%3A%7B%22value%22%3Afalse%7D%2C%22schh%22%3A%7B%22value%22%3Afalse%7D%2C%22schp%22%3A%7B%22value%22%3Afalse%7D%2C%22schr%22%3A%7B%22value%22%3Afalse%7D%2C%22schc%22%3A%7B%22value%22%3Afalse%7D%2C%22schu%22%3A%7B%22value%22%3Afalse%7D%2C%22apco%22%3A%7B%22value%22%3Afalse%7D%2C%22apa%22%3A%7B%22value%22%3Afalse%7D%2C%22con%22%3A%7B%22value%22%3Afalse%7D%2C%22tow%22%3A%7B%22value%22%3Afalse%7D%7D%2C%22isListVisible%22%3Atrue%7D\"\n",
    "headers = {\"User-Agent\": \"Mozilla/5.0 (Windows NT 10.0; Win64; x64; rv:55.0) Gecko/20100101 Firefox/55.0\"}    \n",
    "r = requests.get(\"https://www.zillow.com/homes/recently_sold/Culver-City-CA/house,condo,apartment_duplex,townhouse_type/20432063_zpid/51617_rid/12m_days/globalrelevanceex_sort/34.048605,-118.340178,33.963223,-118.47785_rect/12_zm/\", headers=headers)\n",
    "print(r)"
   ]
  },
  {
   "cell_type": "code",
   "execution_count": null,
   "metadata": {},
   "outputs": [],
   "source": []
  }
 ],
 "metadata": {
  "kernelspec": {
   "display_name": "Python 3",
   "language": "python",
   "name": "python3"
  },
  "language_info": {
   "codemirror_mode": {
    "name": "ipython",
    "version": 3
   },
   "file_extension": ".py",
   "mimetype": "text/x-python",
   "name": "python",
   "nbconvert_exporter": "python",
   "pygments_lexer": "ipython3",
   "version": "3.12.3"
  }
 },
 "nbformat": 4,
 "nbformat_minor": 2
}
